{
 "cells": [
  {
   "cell_type": "code",
   "execution_count": 1,
   "metadata": {},
   "outputs": [],
   "source": [
    "from pandas_datareader import data as pdr\n",
    "import yfinance as yf\n",
    "yf.pdr_override()"
   ]
  },
  {
   "cell_type": "code",
   "execution_count": 2,
   "metadata": {},
   "outputs": [
    {
     "name": "stdout",
     "output_type": "stream",
     "text": [
      "[*********************100%***********************]  1 of 1 completed\n",
      "[*********************100%***********************]  1 of 1 completed\n"
     ]
    }
   ],
   "source": [
    "# 2000년 이후의 다우존스 지수 데이터를 야후 파이넨스로 부터 다운로드 한다. \n",
    "dow = pdr.get_data_yahoo('^DJI', '2000-01-04')\n",
    "# 2000년 이후의 KOSPI 데이터를 야후 파이넨스로 부터 다운로드 한다. \n",
    "kospi = pdr.get_data_yahoo('^KS11', '2000-01-04')"
   ]
  },
  {
   "cell_type": "code",
   "execution_count": 3,
   "metadata": {},
   "outputs": [
    {
     "data": {
      "text/plain": [
       "<Figure size 648x360 with 0 Axes>"
      ]
     },
     "execution_count": 3,
     "metadata": {},
     "output_type": "execute_result"
    },
    {
     "data": {
      "text/plain": [
       "<Figure size 648x360 with 0 Axes>"
      ]
     },
     "metadata": {},
     "output_type": "display_data"
    }
   ],
   "source": [
    "import matplotlib.pyplot as plt\n",
    "plt.figure(figsize=(9, 5))"
   ]
  },
  {
   "cell_type": "code",
   "execution_count": 12,
   "metadata": {},
   "outputs": [
    {
     "data": {
      "image/png": "[encoded data removed]",
      "text/plain": [
       "<Figure size 432x288 with 1 Axes>"
      ]
     },
     "metadata": {
      "needs_background": "light"
     },
     "output_type": "display_data"
    }
   ],
   "source": [
    "# 다우존스 지수를 붉은 점선으로 출력한다. \n",
    "plt.plot(dow.index, dow.Close, 'r--', label='Dow Jones Industrial')\n",
    "# KOSPI를 푸른 실선으로 출력한다. \n",
    "plt.plot(kospi.index, kospi.Close, 'b', label='KOSPI')\n",
    "plt.grid(True)\n",
    "plt.legend(loc='best')\n",
    "plt.show()"
   ]
  },
  {
   "cell_type": "code",
   "execution_count": 13,
   "metadata": {},
   "outputs": [
    {
     "name": "stdout",
     "output_type": "stream",
     "text": [
      "Date\n",
      "2000-01-04    100.000000\n",
      "2000-01-05    101.134038\n",
      "2000-01-06    102.321619\n",
      "2000-01-07    104.770260\n",
      "2000-01-10    105.221624\n",
      "                 ...    \n",
      "2020-10-05    255.944904\n",
      "2020-10-06    252.527162\n",
      "2020-10-07    257.352627\n",
      "2020-10-08    258.462370\n",
      "2020-10-09    259.929834\n",
      "Name: Close, Length: 5226, dtype: float64\n",
      "Date\n",
      "2000-01-04    100.000000\n",
      "2000-01-05     93.132456\n",
      "2000-01-06     90.722725\n",
      "2000-01-07     89.576408\n",
      "2000-01-10     93.220271\n",
      "                 ...    \n",
      "2020-09-29    219.811320\n",
      "2020-10-05    222.654471\n",
      "2020-10-06    223.400421\n",
      "2020-10-07    225.387129\n",
      "2020-10-08    225.861145\n",
      "Name: Close, Length: 5112, dtype: float64\n"
     ]
    }
   ],
   "source": [
    "# 지수화 비교 (Indexation)\n",
    "\n",
    "# 금일 다우존스 지수를 2000년 1월 4일 다우존스 지수로 나눈 뒤 100을 곱한다. \n",
    "d = (dow.Close / dow.Close.loc['2000-01-04']) * 100 \n",
    "\n",
    "# 금일 KOSPI 지수를 2000년 1월 4일 KOSPI 지수로 나눈 뒤 100을 곱한다. \n",
    "k = (kospi.Close / kospi.Close.loc['2000-01-04']) * 100\n",
    "\n",
    "print(d)\n",
    "print(k)"
   ]
  },
  {
   "cell_type": "code",
   "execution_count": null,
   "metadata": {},
   "outputs": [],
   "source": [
    "import matplotlib.pyplot as plt\n",
    "plt.figuredk"
   ]
  }
 ],
 "metadata": {
  "kernelspec": {
   "display_name": "Python 3",
   "language": "python",
   "name": "python3"
  },
  "language_info": {
   "codemirror_mode": {
    "name": "ipython",
    "version": 3
   },
   "file_extension": ".py",
   "mimetype": "text/x-python",
   "name": "python",
   "nbconvert_exporter": "python",
   "pygments_lexer": "ipython3",
   "version": "3.7.6"
  }
 },
 "nbformat": 4,
 "nbformat_minor": 4
}
